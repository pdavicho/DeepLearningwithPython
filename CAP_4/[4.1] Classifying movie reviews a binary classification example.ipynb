{
 "cells": [
  {
   "cell_type": "markdown",
   "metadata": {},
   "source": [
    "# <center> An Introduction to Deep Learning With Python <center/>"
   ]
  },
  {
   "cell_type": "markdown",
   "metadata": {},
   "source": [
    "### [4.1] Classifying movie reviews a binary classification example\n",
    "Prof. Yuzo Iano\n",
    "\n",
    "pgs: 105 - 110"
   ]
  },
  {
   "cell_type": "markdown",
   "metadata": {},
   "source": [
    "#### Loading the IMDB dataset"
   ]
  },
  {
   "cell_type": "code",
   "execution_count": 1,
   "metadata": {},
   "outputs": [
    {
     "name": "stderr",
     "output_type": "stream",
     "text": [
      "Using TensorFlow backend.\n"
     ]
    }
   ],
   "source": [
    "from keras.datasets import imdb\n",
    "(train_data, train_labels),(test_data, test_labels) = imdb.load_data(num_words = 10000)"
   ]
  },
  {
   "cell_type": "code",
   "execution_count": 2,
   "metadata": {},
   "outputs": [],
   "source": [
    "word_index = imdb.get_word_index()\n",
    "reverse_word_index = dict(\n",
    "    [(value, key) for (key, value) in word_index.items()])\n",
    "decoded_review = ' '.join(\n",
    "    [reverse_word_index.get(i - 3, '?') for i in train_data[0]])"
   ]
  },
  {
   "cell_type": "markdown",
   "metadata": {},
   "source": [
    "#### Preparing the data\n",
    "Encoding the Integer sequences Into a binary matrix"
   ]
  },
  {
   "cell_type": "code",
   "execution_count": 3,
   "metadata": {},
   "outputs": [],
   "source": [
    "import numpy as np\n",
    "\n",
    "def vectorize_sequences(sequences, dimension=10000):\n",
    "    results = np.zeros((len(sequences), dimension))\n",
    "    for i, sequence in enumerate(sequences):\n",
    "        results[i, sequence] = 1.\n",
    "    return results\n",
    "\n",
    "x_train = vectorize_sequences(train_data)\n",
    "x_test = vectorize_sequences(test_data)"
   ]
  },
  {
   "cell_type": "code",
   "execution_count": 4,
   "metadata": {},
   "outputs": [],
   "source": [
    "y_train = np.asarray(train_labels).astype('float32')\n",
    "y_test = np.asarray(test_labels).astype('float32')"
   ]
  },
  {
   "cell_type": "markdown",
   "metadata": {},
   "source": [
    "#### Setting aside a validation set"
   ]
  },
  {
   "cell_type": "code",
   "execution_count": 5,
   "metadata": {},
   "outputs": [],
   "source": [
    "x_val = x_train[: 10000]\n",
    "partial_x_train = x_train[10000:]\n",
    "\n",
    "y_val = y_train[:10000]\n",
    "partial_y_train = y_train[10000:]"
   ]
  },
  {
   "cell_type": "markdown",
   "metadata": {},
   "source": [
    "#### Building your model\n",
    "Original model"
   ]
  },
  {
   "cell_type": "code",
   "execution_count": 6,
   "metadata": {},
   "outputs": [
    {
     "name": "stdout",
     "output_type": "stream",
     "text": [
      "WARNING:tensorflow:From C:\\Users\\pablo\\AppData\\Roaming\\Python\\Python36\\site-packages\\tensorflow\\python\\framework\\op_def_library.py:263: colocate_with (from tensorflow.python.framework.ops) is deprecated and will be removed in a future version.\n",
      "Instructions for updating:\n",
      "Colocations handled automatically by placer.\n",
      "_________________________________________________________________\n",
      "Layer (type)                 Output Shape              Param #   \n",
      "=================================================================\n",
      "dense_1 (Dense)              (None, 16)                160016    \n",
      "_________________________________________________________________\n",
      "dense_2 (Dense)              (None, 16)                272       \n",
      "_________________________________________________________________\n",
      "dense_3 (Dense)              (None, 1)                 17        \n",
      "=================================================================\n",
      "Total params: 160,305\n",
      "Trainable params: 160,305\n",
      "Non-trainable params: 0\n",
      "_________________________________________________________________\n"
     ]
    }
   ],
   "source": [
    "from keras.models import Sequential\n",
    "from keras.layers import Dense\n",
    "\n",
    "model = Sequential()\n",
    "model.add(Dense(16, activation='relu', input_shape=(10000,)))\n",
    "model.add(Dense(16, activation='relu'))\n",
    "model.add(Dense(1, activation='sigmoid'))\n",
    "model.summary()"
   ]
  },
  {
   "cell_type": "markdown",
   "metadata": {},
   "source": [
    "#### Training your model"
   ]
  },
  {
   "cell_type": "code",
   "execution_count": 8,
   "metadata": {},
   "outputs": [
    {
     "name": "stdout",
     "output_type": "stream",
     "text": [
      "Train on 15000 samples, validate on 10000 samples\n",
      "Epoch 1/20\n",
      "15000/15000 [==============================] - 5s 364us/step - loss: 0.1637 - acc: 0.9431 - val_loss: 0.3212 - val_acc: 0.8728\n",
      "Epoch 2/20\n",
      "15000/15000 [==============================] - 5s 365us/step - loss: 0.1277 - acc: 0.9588 - val_loss: 0.2897 - val_acc: 0.8887\n",
      "Epoch 3/20\n",
      "15000/15000 [==============================] - 5s 340us/step - loss: 0.1011 - acc: 0.9699 - val_loss: 0.3131 - val_acc: 0.8835\n",
      "Epoch 4/20\n",
      "15000/15000 [==============================] - 5s 326us/step - loss: 0.0850 - acc: 0.9743 - val_loss: 0.3744 - val_acc: 0.8720\n",
      "Epoch 5/20\n",
      "15000/15000 [==============================] - 5s 329us/step - loss: 0.0707 - acc: 0.9791 - val_loss: 0.3604 - val_acc: 0.8767\n",
      "Epoch 6/20\n",
      "15000/15000 [==============================] - 5s 321us/step - loss: 0.0585 - acc: 0.9844 - val_loss: 0.3745 - val_acc: 0.8818\n",
      "Epoch 7/20\n",
      "15000/15000 [==============================] - 5s 323us/step - loss: 0.0503 - acc: 0.9869 - val_loss: 0.4004 - val_acc: 0.8790\n",
      "Epoch 8/20\n",
      "15000/15000 [==============================] - 5s 324us/step - loss: 0.0369 - acc: 0.9923 - val_loss: 0.4389 - val_acc: 0.8748\n",
      "Epoch 9/20\n",
      "15000/15000 [==============================] - 5s 328us/step - loss: 0.0330 - acc: 0.9927 - val_loss: 0.4694 - val_acc: 0.8741\n",
      "Epoch 10/20\n",
      "15000/15000 [==============================] - 5s 329us/step - loss: 0.0243 - acc: 0.9959 - val_loss: 0.5208 - val_acc: 0.8698\n",
      "Epoch 11/20\n",
      "15000/15000 [==============================] - 5s 322us/step - loss: 0.0204 - acc: 0.9969 - val_loss: 0.5304 - val_acc: 0.8711\n",
      "Epoch 12/20\n",
      "15000/15000 [==============================] - 5s 321us/step - loss: 0.0146 - acc: 0.9981 - val_loss: 0.5892 - val_acc: 0.8680\n",
      "Epoch 13/20\n",
      "15000/15000 [==============================] - 5s 320us/step - loss: 0.0146 - acc: 0.9974 - val_loss: 0.6086 - val_acc: 0.8697\n",
      "Epoch 14/20\n",
      "15000/15000 [==============================] - 5s 320us/step - loss: 0.0069 - acc: 0.9997 - val_loss: 0.6485 - val_acc: 0.8646\n",
      "Epoch 15/20\n",
      "15000/15000 [==============================] - 5s 320us/step - loss: 0.0113 - acc: 0.9975 - val_loss: 0.6717 - val_acc: 0.8669\n",
      "Epoch 16/20\n",
      "15000/15000 [==============================] - 5s 320us/step - loss: 0.0042 - acc: 0.9998 - val_loss: 0.7049 - val_acc: 0.8636\n",
      "Epoch 17/20\n",
      "15000/15000 [==============================] - 5s 320us/step - loss: 0.0074 - acc: 0.9987 - val_loss: 0.7562 - val_acc: 0.8645\n",
      "Epoch 18/20\n",
      "15000/15000 [==============================] - 5s 320us/step - loss: 0.0022 - acc: 0.9999 - val_loss: 0.7770 - val_acc: 0.8633\n",
      "Epoch 19/20\n",
      "15000/15000 [==============================] - 5s 331us/step - loss: 0.0076 - acc: 0.9980 - val_loss: 0.8096 - val_acc: 0.8625\n",
      "Epoch 20/20\n",
      "15000/15000 [==============================] - 5s 334us/step - loss: 0.0014 - acc: 0.9999 - val_loss: 0.8258 - val_acc: 0.8621\n"
     ]
    }
   ],
   "source": [
    "from keras import optimizers\n",
    "\n",
    "model.compile(optimizer = 'rmsprop',\n",
    "              loss = 'binary_crossentropy',\n",
    "              metrics = ['acc'])\n",
    "\n",
    "history = model.fit(partial_x_train,\n",
    "                    partial_y_train,\n",
    "                    epochs = 20,\n",
    "                    batch_size = 512,\n",
    "                    validation_data = (x_val, y_val))"
   ]
  },
  {
   "cell_type": "code",
   "execution_count": 9,
   "metadata": {},
   "outputs": [],
   "source": [
    "original_loss = history.history['val_loss']\n",
    "original_loss_training = history.history['loss']"
   ]
  },
  {
   "cell_type": "markdown",
   "metadata": {},
   "source": [
    "#### Version of the model with lower capacity"
   ]
  },
  {
   "cell_type": "code",
   "execution_count": 10,
   "metadata": {},
   "outputs": [
    {
     "name": "stdout",
     "output_type": "stream",
     "text": [
      "_________________________________________________________________\n",
      "Layer (type)                 Output Shape              Param #   \n",
      "=================================================================\n",
      "dense_4 (Dense)              (None, 4)                 40004     \n",
      "_________________________________________________________________\n",
      "dense_5 (Dense)              (None, 4)                 20        \n",
      "_________________________________________________________________\n",
      "dense_6 (Dense)              (None, 1)                 5         \n",
      "=================================================================\n",
      "Total params: 40,029\n",
      "Trainable params: 40,029\n",
      "Non-trainable params: 0\n",
      "_________________________________________________________________\n"
     ]
    }
   ],
   "source": [
    "low = Sequential()\n",
    "low.add(Dense(4, activation='relu', input_shape=(10000,)))\n",
    "low.add(Dense(4, activation='relu'))\n",
    "low.add(Dense(1, activation='sigmoid'))\n",
    "low.summary()"
   ]
  },
  {
   "cell_type": "code",
   "execution_count": 11,
   "metadata": {},
   "outputs": [
    {
     "name": "stdout",
     "output_type": "stream",
     "text": [
      "Train on 15000 samples, validate on 10000 samples\n",
      "Epoch 1/20\n",
      "15000/15000 [==============================] - 5s 346us/step - loss: 0.6187 - acc: 0.6503 - val_loss: 0.5607 - val_acc: 0.7740\n",
      "Epoch 2/20\n",
      "15000/15000 [==============================] - 5s 302us/step - loss: 0.5202 - acc: 0.8149 - val_loss: 0.5100 - val_acc: 0.8055\n",
      "Epoch 3/20\n",
      "15000/15000 [==============================] - 5s 301us/step - loss: 0.4654 - acc: 0.8729 - val_loss: 0.4869 - val_acc: 0.8097\n",
      "Epoch 4/20\n",
      "15000/15000 [==============================] - 5s 303us/step - loss: 0.4243 - acc: 0.9039 - val_loss: 0.4568 - val_acc: 0.8518\n",
      "Epoch 5/20\n",
      "15000/15000 [==============================] - 5s 303us/step - loss: 0.3899 - acc: 0.9233 - val_loss: 0.4342 - val_acc: 0.8748\n",
      "Epoch 6/20\n",
      "15000/15000 [==============================] - 5s 305us/step - loss: 0.3599 - acc: 0.9373 - val_loss: 0.4189 - val_acc: 0.8790\n",
      "Epoch 7/20\n",
      "15000/15000 [==============================] - 5s 304us/step - loss: 0.3331 - acc: 0.9484 - val_loss: 0.4307 - val_acc: 0.8599\n",
      "Epoch 8/20\n",
      "15000/15000 [==============================] - 5s 303us/step - loss: 0.3087 - acc: 0.9561 - val_loss: 0.4053 - val_acc: 0.8771\n",
      "Epoch 9/20\n",
      "15000/15000 [==============================] - 5s 303us/step - loss: 0.2855 - acc: 0.9639 - val_loss: 0.4127 - val_acc: 0.8706\n",
      "Epoch 10/20\n",
      "15000/15000 [==============================] - 5s 303us/step - loss: 0.2646 - acc: 0.9695 - val_loss: 0.4214 - val_acc: 0.8671\n",
      "Epoch 11/20\n",
      "15000/15000 [==============================] - 5s 304us/step - loss: 0.2449 - acc: 0.9739 - val_loss: 0.3998 - val_acc: 0.8752\n",
      "Epoch 12/20\n",
      "15000/15000 [==============================] - 5s 303us/step - loss: 0.2262 - acc: 0.9781 - val_loss: 0.4339 - val_acc: 0.8636\n",
      "Epoch 13/20\n",
      "15000/15000 [==============================] - 5s 304us/step - loss: 0.2087 - acc: 0.9818 - val_loss: 0.3999 - val_acc: 0.8733\n",
      "Epoch 14/20\n",
      "15000/15000 [==============================] - 5s 302us/step - loss: 0.1924 - acc: 0.9843 - val_loss: 0.4136 - val_acc: 0.8707\n",
      "Epoch 15/20\n",
      "15000/15000 [==============================] - 5s 302us/step - loss: 0.1776 - acc: 0.9867 - val_loss: 0.4119 - val_acc: 0.8719\n",
      "Epoch 16/20\n",
      "15000/15000 [==============================] - 5s 307us/step - loss: 0.1632 - acc: 0.9875 - val_loss: 0.4165 - val_acc: 0.8704\n",
      "Epoch 17/20\n",
      "15000/15000 [==============================] - 5s 304us/step - loss: 0.1494 - acc: 0.9892 - val_loss: 0.4682 - val_acc: 0.8627\n",
      "Epoch 18/20\n",
      "15000/15000 [==============================] - 5s 300us/step - loss: 0.1376 - acc: 0.9901 - val_loss: 0.4766 - val_acc: 0.8634\n",
      "Epoch 19/20\n",
      "15000/15000 [==============================] - 5s 315us/step - loss: 0.1262 - acc: 0.9911 - val_loss: 0.4839 - val_acc: 0.8622\n",
      "Epoch 20/20\n",
      "15000/15000 [==============================] - 5s 313us/step - loss: 0.1157 - acc: 0.9918 - val_loss: 0.5082 - val_acc: 0.8610\n"
     ]
    }
   ],
   "source": [
    "low.compile(optimizer = 'rmsprop',\n",
    "              loss = 'binary_crossentropy',\n",
    "              metrics = ['acc'])\n",
    "\n",
    "historylow = low.fit(partial_x_train,\n",
    "                    partial_y_train,\n",
    "                    epochs = 20,\n",
    "                    batch_size = 512,\n",
    "                    validation_data = (x_val, y_val))"
   ]
  },
  {
   "cell_type": "code",
   "execution_count": 12,
   "metadata": {},
   "outputs": [],
   "source": [
    "low_loss = historylow.history['val_loss']"
   ]
  },
  {
   "cell_type": "markdown",
   "metadata": {},
   "source": [
    "#### Plotting the validation loss"
   ]
  },
  {
   "cell_type": "code",
   "execution_count": 14,
   "metadata": {},
   "outputs": [
    {
     "data": {
      "image/png": "[encoded data removed]",
      "text/plain": [
       "<Figure size 432x288 with 1 Axes>"
      ]
     },
     "metadata": {
      "needs_background": "light"
     },
     "output_type": "display_data"
    }
   ],
   "source": [
    "import matplotlib.pyplot as plt\n",
    "\n",
    "epochs = range(1, len(original_loss) + 1)\n",
    "\n",
    "plt.plot(epochs, original_loss, 'b+', label='Original model')\n",
    "plt.plot(epochs, low_loss, 'bo', label='Smaller model')\n",
    "plt.title('Effect of model capacity on validation loss')\n",
    "plt.xlabel('Epochs')\n",
    "plt.ylabel('Validation Loss')\n",
    "plt.legend()\n",
    "plt.grid()\n",
    "\n",
    "plt.show()"
   ]
  },
  {
   "cell_type": "markdown",
   "metadata": {},
   "source": [
    "#### Version of the model with higher capacity"
   ]
  },
  {
   "cell_type": "code",
   "execution_count": 15,
   "metadata": {},
   "outputs": [
    {
     "name": "stdout",
     "output_type": "stream",
     "text": [
      "_________________________________________________________________\n",
      "Layer (type)                 Output Shape              Param #   \n",
      "=================================================================\n",
      "dense_7 (Dense)              (None, 512)               5120512   \n",
      "_________________________________________________________________\n",
      "dense_8 (Dense)              (None, 512)               262656    \n",
      "_________________________________________________________________\n",
      "dense_9 (Dense)              (None, 1)                 513       \n",
      "=================================================================\n",
      "Total params: 5,383,681\n",
      "Trainable params: 5,383,681\n",
      "Non-trainable params: 0\n",
      "_________________________________________________________________\n"
     ]
    }
   ],
   "source": [
    "high = Sequential()\n",
    "high.add(Dense(512, activation='relu', input_shape=(10000,)))\n",
    "high.add(Dense(512, activation='relu'))\n",
    "high.add(Dense(1, activation='sigmoid'))\n",
    "high.summary()"
   ]
  },
  {
   "cell_type": "code",
   "execution_count": 16,
   "metadata": {},
   "outputs": [
    {
     "name": "stdout",
     "output_type": "stream",
     "text": [
      "Train on 15000 samples, validate on 10000 samples\n",
      "Epoch 1/20\n",
      "15000/15000 [==============================] - 10s 654us/step - loss: 0.5303 - acc: 0.7758 - val_loss: 0.6182 - val_acc: 0.7285\n",
      "Epoch 2/20\n",
      "15000/15000 [==============================] - 9s 588us/step - loss: 0.2540 - acc: 0.8991 - val_loss: 0.3049 - val_acc: 0.8780\n",
      "Epoch 3/20\n",
      "15000/15000 [==============================] - 9s 590us/step - loss: 0.1562 - acc: 0.9409 - val_loss: 0.3292 - val_acc: 0.8609\n",
      "Epoch 4/20\n",
      "15000/15000 [==============================] - 9s 583us/step - loss: 0.0834 - acc: 0.9723 - val_loss: 0.4004 - val_acc: 0.8810\n",
      "Epoch 5/20\n",
      "15000/15000 [==============================] - 9s 570us/step - loss: 0.1209 - acc: 0.9769 - val_loss: 0.3261 - val_acc: 0.8825\n",
      "Epoch 6/20\n",
      "15000/15000 [==============================] - 9s 570us/step - loss: 0.0059 - acc: 0.9998 - val_loss: 0.4956 - val_acc: 0.8839\n",
      "Epoch 7/20\n",
      "15000/15000 [==============================] - 9s 573us/step - loss: 7.1435e-04 - acc: 1.0000 - val_loss: 0.5763 - val_acc: 0.8865\n",
      "Epoch 8/20\n",
      "15000/15000 [==============================] - 9s 572us/step - loss: 1.3496e-04 - acc: 1.0000 - val_loss: 0.6726 - val_acc: 0.8851\n",
      "Epoch 9/20\n",
      "15000/15000 [==============================] - 9s 602us/step - loss: 2.1774e-05 - acc: 1.0000 - val_loss: 0.7739 - val_acc: 0.8813\n",
      "Epoch 10/20\n",
      "15000/15000 [==============================] - 9s 574us/step - loss: 5.1310e-06 - acc: 1.0000 - val_loss: 0.8090 - val_acc: 0.8848\n",
      "Epoch 11/20\n",
      "15000/15000 [==============================] - 9s 577us/step - loss: 1.2307e-06 - acc: 1.0000 - val_loss: 0.8606 - val_acc: 0.8857\n",
      "Epoch 12/20\n",
      "15000/15000 [==============================] - 9s 590us/step - loss: 4.2933e-07 - acc: 1.0000 - val_loss: 0.9018 - val_acc: 0.8862\n",
      "Epoch 13/20\n",
      "15000/15000 [==============================] - 9s 594us/step - loss: 2.1638e-07 - acc: 1.0000 - val_loss: 0.9347 - val_acc: 0.8858\n",
      "Epoch 14/20\n",
      "15000/15000 [==============================] - 9s 598us/step - loss: 1.4739e-07 - acc: 1.0000 - val_loss: 0.9607 - val_acc: 0.8853\n",
      "Epoch 15/20\n",
      "15000/15000 [==============================] - 9s 600us/step - loss: 1.2666e-07 - acc: 1.0000 - val_loss: 0.9719 - val_acc: 0.8852\n",
      "Epoch 16/20\n",
      "15000/15000 [==============================] - 9s 593us/step - loss: 1.1897e-07 - acc: 1.0000 - val_loss: 0.9819 - val_acc: 0.8856\n",
      "Epoch 17/20\n",
      "15000/15000 [==============================] - 9s 602us/step - loss: 1.1569e-07 - acc: 1.0000 - val_loss: 0.9890 - val_acc: 0.8853\n",
      "Epoch 18/20\n",
      "15000/15000 [==============================] - 9s 574us/step - loss: 1.1386e-07 - acc: 1.0000 - val_loss: 0.9959 - val_acc: 0.8855\n",
      "Epoch 19/20\n",
      "15000/15000 [==============================] - 9s 586us/step - loss: 1.1283e-07 - acc: 1.0000 - val_loss: 0.9996 - val_acc: 0.8854\n",
      "Epoch 20/20\n",
      "15000/15000 [==============================] - 9s 578us/step - loss: 1.1193e-07 - acc: 1.0000 - val_loss: 1.0038 - val_acc: 0.8857\n"
     ]
    }
   ],
   "source": [
    "high.compile(optimizer = 'rmsprop',\n",
    "              loss = 'binary_crossentropy',\n",
    "              metrics = ['acc'])\n",
    "\n",
    "historyhigh = high.fit(partial_x_train,\n",
    "                    partial_y_train,\n",
    "                    epochs = 20,\n",
    "                    batch_size = 512,\n",
    "                    validation_data = (x_val, y_val))"
   ]
  },
  {
   "cell_type": "code",
   "execution_count": 17,
   "metadata": {},
   "outputs": [],
   "source": [
    "high_loss = historyhigh.history['val_loss']\n",
    "high_loss_training = historyhigh.history['loss']"
   ]
  },
  {
   "cell_type": "markdown",
   "metadata": {},
   "source": [
    "#### Plotting the validation loss"
   ]
  },
  {
   "cell_type": "code",
   "execution_count": 18,
   "metadata": {},
   "outputs": [
    {
     "data": {
      "image/png": "[encoded data removed]",
      "text/plain": [
       "<Figure size 432x288 with 1 Axes>"
      ]
     },
     "metadata": {
      "needs_background": "light"
     },
     "output_type": "display_data"
    }
   ],
   "source": [
    "plt.plot(epochs, original_loss, 'b+', label='Original model')\n",
    "plt.plot(epochs, high_loss, 'bo', label='Bigger model')\n",
    "plt.title('Effect of model capacity on validation loss')\n",
    "plt.xlabel('Epochs')\n",
    "plt.ylabel('Validation Loss')\n",
    "plt.legend()\n",
    "plt.grid()\n",
    "\n",
    "plt.show()"
   ]
  },
  {
   "cell_type": "markdown",
   "metadata": {},
   "source": [
    "#### Plotting the training loss"
   ]
  },
  {
   "cell_type": "code",
   "execution_count": 19,
   "metadata": {},
   "outputs": [
    {
     "data": {
      "image/png": "[encoded data removed]",
      "text/plain": [
       "<Figure size 432x288 with 1 Axes>"
      ]
     },
     "metadata": {
      "needs_background": "light"
     },
     "output_type": "display_data"
    }
   ],
   "source": [
    "plt.plot(epochs, original_loss_training, 'b+', label='Original model')\n",
    "plt.plot(epochs, high_loss_training, 'bo', label='Bigger model')\n",
    "plt.title('Effect of model capacity on training loss')\n",
    "plt.xlabel('Epochs')\n",
    "plt.ylabel('Training Loss')\n",
    "plt.legend()\n",
    "plt.grid()\n",
    "\n",
    "plt.show()"
   ]
  },
  {
   "cell_type": "markdown",
   "metadata": {},
   "source": [
    "#### Adding L2 weight regularization to the model"
   ]
  },
  {
   "cell_type": "code",
   "execution_count": 20,
   "metadata": {},
   "outputs": [
    {
     "name": "stdout",
     "output_type": "stream",
     "text": [
      "_________________________________________________________________\n",
      "Layer (type)                 Output Shape              Param #   \n",
      "=================================================================\n",
      "dense_10 (Dense)             (None, 16)                160016    \n",
      "_________________________________________________________________\n",
      "dense_11 (Dense)             (None, 16)                272       \n",
      "_________________________________________________________________\n",
      "dense_12 (Dense)             (None, 1)                 17        \n",
      "=================================================================\n",
      "Total params: 160,305\n",
      "Trainable params: 160,305\n",
      "Non-trainable params: 0\n",
      "_________________________________________________________________\n"
     ]
    }
   ],
   "source": [
    "from keras import regularizers\n",
    "\n",
    "modell2 = Sequential()\n",
    "modell2.add(Dense(16, kernel_regularizer=regularizers.l2(0.001), activation='relu', input_shape=(10000,)))\n",
    "modell2.add(Dense(16, kernel_regularizer=regularizers.l2(0.001), activation='relu'))\n",
    "modell2.add(Dense(1, activation='sigmoid'))\n",
    "modell2.summary()"
   ]
  },
  {
   "cell_type": "code",
   "execution_count": 21,
   "metadata": {},
   "outputs": [
    {
     "name": "stdout",
     "output_type": "stream",
     "text": [
      "Train on 15000 samples, validate on 10000 samples\n",
      "Epoch 1/20\n",
      "15000/15000 [==============================] - 6s 385us/step - loss: 0.5298 - acc: 0.7949 - val_loss: 0.4098 - val_acc: 0.8655\n",
      "Epoch 2/20\n",
      "15000/15000 [==============================] - 5s 323us/step - loss: 0.3371 - acc: 0.9017 - val_loss: 0.3439 - val_acc: 0.8892\n",
      "Epoch 3/20\n",
      "15000/15000 [==============================] - 5s 321us/step - loss: 0.2741 - acc: 0.9241 - val_loss: 0.3400 - val_acc: 0.8853\n",
      "Epoch 4/20\n",
      "15000/15000 [==============================] - 5s 322us/step - loss: 0.2403 - acc: 0.9345 - val_loss: 0.3273 - val_acc: 0.8893\n",
      "Epoch 5/20\n",
      "15000/15000 [==============================] - 5s 328us/step - loss: 0.2233 - acc: 0.9437 - val_loss: 0.3339 - val_acc: 0.8877\n",
      "Epoch 6/20\n",
      "15000/15000 [==============================] - 5s 341us/step - loss: 0.2056 - acc: 0.9515 - val_loss: 0.3485 - val_acc: 0.8849\n",
      "Epoch 7/20\n",
      "15000/15000 [==============================] - 5s 330us/step - loss: 0.1961 - acc: 0.9531 - val_loss: 0.3487 - val_acc: 0.8840\n",
      "Epoch 8/20\n",
      "15000/15000 [==============================] - 5s 318us/step - loss: 0.1901 - acc: 0.9559 - val_loss: 0.3745 - val_acc: 0.8796\n",
      "Epoch 9/20\n",
      "15000/15000 [==============================] - 5s 324us/step - loss: 0.1824 - acc: 0.9599 - val_loss: 0.3915 - val_acc: 0.8770\n",
      "Epoch 10/20\n",
      "15000/15000 [==============================] - 5s 333us/step - loss: 0.1750 - acc: 0.9643 - val_loss: 0.3766 - val_acc: 0.8801\n",
      "Epoch 11/20\n",
      "15000/15000 [==============================] - 5s 322us/step - loss: 0.1698 - acc: 0.9649 - val_loss: 0.4184 - val_acc: 0.8671\n",
      "Epoch 12/20\n",
      "15000/15000 [==============================] - 5s 317us/step - loss: 0.1654 - acc: 0.9665 - val_loss: 0.4054 - val_acc: 0.8747\n",
      "Epoch 13/20\n",
      "15000/15000 [==============================] - 5s 320us/step - loss: 0.1621 - acc: 0.9679 - val_loss: 0.4103 - val_acc: 0.8734\n",
      "Epoch 14/20\n",
      "15000/15000 [==============================] - 5s 316us/step - loss: 0.1608 - acc: 0.9687 - val_loss: 0.4254 - val_acc: 0.8706\n",
      "Epoch 15/20\n",
      "15000/15000 [==============================] - 5s 322us/step - loss: 0.1536 - acc: 0.9713 - val_loss: 0.4180 - val_acc: 0.8749\n",
      "Epoch 16/20\n",
      "15000/15000 [==============================] - 5s 325us/step - loss: 0.1587 - acc: 0.9677 - val_loss: 0.4234 - val_acc: 0.8748\n",
      "Epoch 17/20\n",
      "15000/15000 [==============================] - 5s 345us/step - loss: 0.1528 - acc: 0.9700 - val_loss: 0.5488 - val_acc: 0.8490\n",
      "Epoch 18/20\n",
      "15000/15000 [==============================] - 5s 339us/step - loss: 0.1505 - acc: 0.9719 - val_loss: 0.4336 - val_acc: 0.8753\n",
      "Epoch 19/20\n",
      "15000/15000 [==============================] - 5s 326us/step - loss: 0.1457 - acc: 0.9747 - val_loss: 0.4419 - val_acc: 0.8708\n",
      "Epoch 20/20\n",
      "15000/15000 [==============================] - 5s 326us/step - loss: 0.1397 - acc: 0.9774 - val_loss: 0.4508 - val_acc: 0.8713\n"
     ]
    }
   ],
   "source": [
    "modell2.compile(optimizer = 'rmsprop',\n",
    "              loss = 'binary_crossentropy',\n",
    "              metrics = ['acc'])\n",
    "\n",
    "historyl2 = modell2.fit(partial_x_train,\n",
    "                    partial_y_train,\n",
    "                    epochs = 20,\n",
    "                    batch_size = 512,\n",
    "                    validation_data = (x_val, y_val))"
   ]
  },
  {
   "cell_type": "code",
   "execution_count": 22,
   "metadata": {},
   "outputs": [],
   "source": [
    "l2_loss = historyl2.history['val_loss']"
   ]
  },
  {
   "cell_type": "markdown",
   "metadata": {},
   "source": [
    "#### Plotting the validation loss"
   ]
  },
  {
   "cell_type": "code",
   "execution_count": 23,
   "metadata": {},
   "outputs": [
    {
     "data": {
      "image/png": "[encoded data removed]",
      "text/plain": [
       "<Figure size 432x288 with 1 Axes>"
      ]
     },
     "metadata": {
      "needs_background": "light"
     },
     "output_type": "display_data"
    }
   ],
   "source": [
    "plt.plot(epochs, original_loss, 'b+', label='Original model')\n",
    "plt.plot(epochs, l2_loss, 'bo', label='L2-regularized model')\n",
    "plt.title('Effect of L2 weight regularization on validation loss')\n",
    "plt.xlabel('Epochs')\n",
    "plt.ylabel('Validation Loss')\n",
    "plt.legend()\n",
    "plt.grid()\n",
    "\n",
    "plt.show()"
   ]
  },
  {
   "cell_type": "markdown",
   "metadata": {},
   "source": [
    "#### Adding dropout to the IMDB network"
   ]
  },
  {
   "cell_type": "code",
   "execution_count": 24,
   "metadata": {},
   "outputs": [
    {
     "name": "stdout",
     "output_type": "stream",
     "text": [
      "WARNING:tensorflow:From C:\\Users\\pablo\\Python\\envs\\DAVID\\lib\\site-packages\\keras\\backend\\tensorflow_backend.py:3445: calling dropout (from tensorflow.python.ops.nn_ops) with keep_prob is deprecated and will be removed in a future version.\n",
      "Instructions for updating:\n",
      "Please use `rate` instead of `keep_prob`. Rate should be set to `rate = 1 - keep_prob`.\n",
      "_________________________________________________________________\n",
      "Layer (type)                 Output Shape              Param #   \n",
      "=================================================================\n",
      "dense_13 (Dense)             (None, 16)                160016    \n",
      "_________________________________________________________________\n",
      "dropout_1 (Dropout)          (None, 16)                0         \n",
      "_________________________________________________________________\n",
      "dense_14 (Dense)             (None, 16)                272       \n",
      "_________________________________________________________________\n",
      "dropout_2 (Dropout)          (None, 16)                0         \n",
      "_________________________________________________________________\n",
      "dense_15 (Dense)             (None, 1)                 17        \n",
      "=================================================================\n",
      "Total params: 160,305\n",
      "Trainable params: 160,305\n",
      "Non-trainable params: 0\n",
      "_________________________________________________________________\n"
     ]
    }
   ],
   "source": [
    "from keras.layers import Dropout\n",
    "\n",
    "model = Sequential()\n",
    "model.add(Dense(16, activation='relu', input_shape=(10000,)))\n",
    "model.add(Dropout(0.5))\n",
    "model.add(Dense(16, activation='relu'))\n",
    "model.add(Dropout(0.5))\n",
    "model.add(Dense(1, activation='sigmoid'))\n",
    "model.summary()"
   ]
  },
  {
   "cell_type": "code",
   "execution_count": 25,
   "metadata": {},
   "outputs": [
    {
     "name": "stdout",
     "output_type": "stream",
     "text": [
      "Train on 15000 samples, validate on 10000 samples\n",
      "Epoch 1/20\n",
      "15000/15000 [==============================] - 5s 353us/step - loss: 0.6414 - acc: 0.6269 - val_loss: 0.5487 - val_acc: 0.7669\n",
      "Epoch 2/20\n",
      "15000/15000 [==============================] - 5s 345us/step - loss: 0.5377 - acc: 0.7530 - val_loss: 0.4570 - val_acc: 0.8666\n",
      "Epoch 3/20\n",
      "15000/15000 [==============================] - 5s 331us/step - loss: 0.4633 - acc: 0.8154 - val_loss: 0.3865 - val_acc: 0.8800\n",
      "Epoch 4/20\n",
      "15000/15000 [==============================] - 5s 333us/step - loss: 0.4013 - acc: 0.8533 - val_loss: 0.3465 - val_acc: 0.8798\n",
      "Epoch 5/20\n",
      "15000/15000 [==============================] - 6s 412us/step - loss: 0.3548 - acc: 0.8838 - val_loss: 0.3159 - val_acc: 0.8841\n",
      "Epoch 6/20\n",
      "15000/15000 [==============================] - 6s 377us/step - loss: 0.3134 - acc: 0.8993 - val_loss: 0.3066 - val_acc: 0.8764\n",
      "Epoch 7/20\n",
      "15000/15000 [==============================] - 5s 346us/step - loss: 0.2806 - acc: 0.9156 - val_loss: 0.2982 - val_acc: 0.8825\n",
      "Epoch 8/20\n",
      "15000/15000 [==============================] - 5s 358us/step - loss: 0.2542 - acc: 0.9275 - val_loss: 0.3181 - val_acc: 0.8861\n",
      "Epoch 9/20\n",
      "15000/15000 [==============================] - 5s 347us/step - loss: 0.2246 - acc: 0.9354 - val_loss: 0.3079 - val_acc: 0.8848\n",
      "Epoch 10/20\n",
      "15000/15000 [==============================] - 5s 340us/step - loss: 0.2006 - acc: 0.9445 - val_loss: 0.3174 - val_acc: 0.8854\n",
      "Epoch 11/20\n",
      "15000/15000 [==============================] - 5s 330us/step - loss: 0.1818 - acc: 0.9494 - val_loss: 0.3564 - val_acc: 0.8857\n",
      "Epoch 12/20\n",
      "15000/15000 [==============================] - 5s 336us/step - loss: 0.1658 - acc: 0.9523 - val_loss: 0.3598 - val_acc: 0.8845\n",
      "Epoch 13/20\n",
      "15000/15000 [==============================] - 5s 347us/step - loss: 0.1546 - acc: 0.9553 - val_loss: 0.3705 - val_acc: 0.8837\n",
      "Epoch 14/20\n",
      "15000/15000 [==============================] - 5s 326us/step - loss: 0.1397 - acc: 0.9620 - val_loss: 0.4020 - val_acc: 0.8849\n",
      "Epoch 15/20\n",
      "15000/15000 [==============================] - 5s 328us/step - loss: 0.1283 - acc: 0.9645 - val_loss: 0.4183 - val_acc: 0.8855\n",
      "Epoch 16/20\n",
      "15000/15000 [==============================] - 5s 331us/step - loss: 0.1188 - acc: 0.9669 - val_loss: 0.4393 - val_acc: 0.8863\n",
      "Epoch 17/20\n",
      "15000/15000 [==============================] - 5s 356us/step - loss: 0.1127 - acc: 0.9683 - val_loss: 0.4482 - val_acc: 0.8845\n",
      "Epoch 18/20\n",
      "15000/15000 [==============================] - 5s 334us/step - loss: 0.1103 - acc: 0.9701 - val_loss: 0.5141 - val_acc: 0.8836\n",
      "Epoch 19/20\n",
      "15000/15000 [==============================] - 5s 327us/step - loss: 0.0986 - acc: 0.9719 - val_loss: 0.5001 - val_acc: 0.8843\n",
      "Epoch 20/20\n",
      "15000/15000 [==============================] - 5s 325us/step - loss: 0.0998 - acc: 0.9733 - val_loss: 0.5302 - val_acc: 0.8838\n"
     ]
    }
   ],
   "source": [
    "model.compile(optimizer = 'rmsprop',\n",
    "              loss = 'binary_crossentropy',\n",
    "              metrics = ['acc'])\n",
    "\n",
    "history_dropout = model.fit(partial_x_train,\n",
    "                    partial_y_train,\n",
    "                    epochs = 20,\n",
    "                    batch_size = 512,\n",
    "                    validation_data = (x_val, y_val))"
   ]
  },
  {
   "cell_type": "code",
   "execution_count": 26,
   "metadata": {},
   "outputs": [],
   "source": [
    "dropout_loss = history_dropout.history['val_loss']"
   ]
  },
  {
   "cell_type": "code",
   "execution_count": 27,
   "metadata": {},
   "outputs": [
    {
     "data": {
      "image/png": "[encoded data removed]",
      "text/plain": [
       "<Figure size 432x288 with 1 Axes>"
      ]
     },
     "metadata": {
      "needs_background": "light"
     },
     "output_type": "display_data"
    }
   ],
   "source": [
    "plt.plot(epochs, original_loss, 'b+', label='Original model')\n",
    "plt.plot(epochs, dropout_loss, 'bo', label='Dropout-regularized model')\n",
    "plt.title('Effect of dropout on validation loss')\n",
    "plt.xlabel('Epochs')\n",
    "plt.ylabel('Validation Loss')\n",
    "plt.legend()\n",
    "plt.grid()\n",
    "\n",
    "plt.show()"
   ]
  },
  {
   "cell_type": "markdown",
   "metadata": {},
   "source": [
    "###### Pablo Minango\n",
    "* pablodavid218@gmail.com "
   ]
  }
 ],
 "metadata": {
  "kernelspec": {
   "display_name": "Python 3",
   "language": "python",
   "name": "python3"
  },
  "language_info": {
   "codemirror_mode": {
    "name": "ipython",
    "version": 3
   },
   "file_extension": ".py",
   "mimetype": "text/x-python",
   "name": "python",
   "nbconvert_exporter": "python",
   "pygments_lexer": "ipython3",
   "version": "3.6.8"
  }
 },
 "nbformat": 4,
 "nbformat_minor": 2
}
