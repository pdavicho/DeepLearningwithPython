{
 "cells": [
  {
   "cell_type": "markdown",
   "metadata": {},
   "source": [
    "# <center> An Introduction to Deep Learning With Python <center/>"
   ]
  },
  {
   "cell_type": "markdown",
   "metadata": {},
   "source": [
    "### [6.5] LSTM using reversed sequence\n",
    "Prof. Yuzo Iano\n",
    "\n",
    "pgs: 220 - 222"
   ]
  },
  {
   "cell_type": "markdown",
   "metadata": {},
   "source": [
    "#### Training and evaluating an LSTM using reversed sequence"
   ]
  },
  {
   "cell_type": "code",
   "execution_count": 1,
   "metadata": {},
   "outputs": [
    {
     "name": "stderr",
     "output_type": "stream",
     "text": [
      "Using TensorFlow backend.\n"
     ]
    },
    {
     "name": "stdout",
     "output_type": "stream",
     "text": [
      "WARNING:tensorflow:From C:\\Users\\pablo\\AppData\\Roaming\\Python\\Python36\\site-packages\\tensorflow\\python\\framework\\op_def_library.py:263: colocate_with (from tensorflow.python.framework.ops) is deprecated and will be removed in a future version.\n",
      "Instructions for updating:\n",
      "Colocations handled automatically by placer.\n",
      "_________________________________________________________________\n",
      "Layer (type)                 Output Shape              Param #   \n",
      "=================================================================\n",
      "embedding_1 (Embedding)      (None, None, 128)         1280000   \n",
      "_________________________________________________________________\n",
      "lstm_1 (LSTM)                (None, 32)                20608     \n",
      "_________________________________________________________________\n",
      "dense_1 (Dense)              (None, 1)                 33        \n",
      "=================================================================\n",
      "Total params: 1,300,641\n",
      "Trainable params: 1,300,641\n",
      "Non-trainable params: 0\n",
      "_________________________________________________________________\n",
      "WARNING:tensorflow:From C:\\Users\\pablo\\AppData\\Roaming\\Python\\Python36\\site-packages\\tensorflow\\python\\ops\\math_ops.py:3066: to_int32 (from tensorflow.python.ops.math_ops) is deprecated and will be removed in a future version.\n",
      "Instructions for updating:\n",
      "Use tf.cast instead.\n",
      "Train on 20000 samples, validate on 5000 samples\n",
      "Epoch 1/10\n",
      "20000/20000 [==============================] - 114s 6ms/step - loss: 0.4864 - acc: 0.7686 - val_loss: 0.4752 - val_acc: 0.8182\n",
      "Epoch 2/10\n",
      "20000/20000 [==============================] - 118s 6ms/step - loss: 0.3147 - acc: 0.8794 - val_loss: 0.3321 - val_acc: 0.8638\n",
      "Epoch 3/10\n",
      "20000/20000 [==============================] - 210s 11ms/step - loss: 0.2620 - acc: 0.9041 - val_loss: 0.3135 - val_acc: 0.8754\n",
      "Epoch 4/10\n",
      "20000/20000 [==============================] - 269s 13ms/step - loss: 0.2207 - acc: 0.9199 - val_loss: 0.4420 - val_acc: 0.8542\n",
      "Epoch 5/10\n",
      "20000/20000 [==============================] - 285s 14ms/step - loss: 0.1963 - acc: 0.9290 - val_loss: 0.3819 - val_acc: 0.8404\n",
      "Epoch 6/10\n",
      "20000/20000 [==============================] - 285s 14ms/step - loss: 0.1772 - acc: 0.9377 - val_loss: 0.4270 - val_acc: 0.8376\n",
      "Epoch 7/10\n",
      "20000/20000 [==============================] - 202s 10ms/step - loss: 0.1599 - acc: 0.9464 - val_loss: 0.5431 - val_acc: 0.8494\n",
      "Epoch 8/10\n",
      "20000/20000 [==============================] - 196s 10ms/step - loss: 0.1422 - acc: 0.9514 - val_loss: 0.3865 - val_acc: 0.8686\n",
      "Epoch 9/10\n",
      "20000/20000 [==============================] - 193s 10ms/step - loss: 0.1297 - acc: 0.9568 - val_loss: 0.4032 - val_acc: 0.8672\n",
      "Epoch 10/10\n",
      "20000/20000 [==============================] - 147s 7ms/step - loss: 0.1212 - acc: 0.9606 - val_loss: 0.4497 - val_acc: 0.8594\n"
     ]
    }
   ],
   "source": [
    "from keras.datasets import imdb\n",
    "from keras.preprocessing import sequence\n",
    "from keras.layers import Embedding, LSTM, Dense\n",
    "from keras.models import Sequential\n",
    "\n",
    "max_features = 10000\n",
    "maxlen = 500\n",
    "\n",
    "(x_train, y_train), (x_test, y_test) = imdb.load_data(num_words=max_features)\n",
    "\n",
    "x_train = [x[::-1] for x in x_train]\n",
    "x_test = [x[::-1] for x in x_test]\n",
    "\n",
    "x_train = sequence.pad_sequences(x_train, maxlen=maxlen)\n",
    "x_test = sequence.pad_sequences(x_test, maxlen=maxlen)\n",
    "\n",
    "model = Sequential()\n",
    "model.add(Embedding(max_features, 128))\n",
    "model.add(LSTM(32))\n",
    "model.add(Dense(1, activation='sigmoid'))\n",
    "model.summary()\n",
    "\n",
    "model.compile(optimizer='rmsprop',\n",
    "              loss='binary_crossentropy',\n",
    "              metrics=['acc'])\n",
    "\n",
    "history = model.fit(x_train, y_train,\n",
    "epochs=10,\n",
    "batch_size=128,\n",
    "validation_split=0.2)"
   ]
  },
  {
   "cell_type": "code",
   "execution_count": 3,
   "metadata": {},
   "outputs": [
    {
     "data": {
      "image/png": "[encoded data removed]",
      "text/plain": [
       "<Figure size 432x288 with 1 Axes>"
      ]
     },
     "metadata": {
      "needs_background": "light"
     },
     "output_type": "display_data"
    }
   ],
   "source": [
    "import matplotlib.pyplot as plt\n",
    "\n",
    "loss = history.history['loss']\n",
    "val_loss = history.history['val_loss']\n",
    "\n",
    "epochs = range(len(loss))\n",
    "\n",
    "plt.figure()\n",
    "\n",
    "plt.plot(epochs, loss, 'bo', label='Training loss')\n",
    "plt.plot(epochs, val_loss, 'b', label='Validation loss')\n",
    "plt.title('Training and validation loss')\n",
    "plt.legend()\n",
    "\n",
    "plt.show()"
   ]
  },
  {
   "cell_type": "markdown",
   "metadata": {},
   "source": [
    "#### Training and evaluating a bidirectional LSTM"
   ]
  },
  {
   "cell_type": "code",
   "execution_count": 4,
   "metadata": {},
   "outputs": [
    {
     "name": "stdout",
     "output_type": "stream",
     "text": [
      "_________________________________________________________________\n",
      "Layer (type)                 Output Shape              Param #   \n",
      "=================================================================\n",
      "embedding_2 (Embedding)      (None, None, 32)          320000    \n",
      "_________________________________________________________________\n",
      "bidirectional_1 (Bidirection (None, 64)                16640     \n",
      "_________________________________________________________________\n",
      "dense_2 (Dense)              (None, 1)                 65        \n",
      "=================================================================\n",
      "Total params: 336,705\n",
      "Trainable params: 336,705\n",
      "Non-trainable params: 0\n",
      "_________________________________________________________________\n",
      "Train on 20000 samples, validate on 5000 samples\n",
      "Epoch 1/10\n",
      "20000/20000 [==============================] - 202s 10ms/step - loss: 0.5622 - acc: 0.7172 - val_loss: 0.4503 - val_acc: 0.8164\n",
      "Epoch 2/10\n",
      "20000/20000 [==============================] - 226s 11ms/step - loss: 0.3374 - acc: 0.8713 - val_loss: 0.3196 - val_acc: 0.8814\n",
      "Epoch 3/10\n",
      "20000/20000 [==============================] - 314s 16ms/step - loss: 0.2650 - acc: 0.9017 - val_loss: 0.4061 - val_acc: 0.8754\n",
      "Epoch 4/10\n",
      "20000/20000 [==============================] - 309s 15ms/step - loss: 0.2330 - acc: 0.9181 - val_loss: 0.3033 - val_acc: 0.8834\n",
      "Epoch 5/10\n",
      "20000/20000 [==============================] - 312s 16ms/step - loss: 0.2073 - acc: 0.9254 - val_loss: 0.3448 - val_acc: 0.8906\n",
      "Epoch 6/10\n",
      "20000/20000 [==============================] - 311s 16ms/step - loss: 0.1849 - acc: 0.9356 - val_loss: 0.3927 - val_acc: 0.8766\n",
      "Epoch 7/10\n",
      "20000/20000 [==============================] - 279s 14ms/step - loss: 0.1687 - acc: 0.9415 - val_loss: 0.3565 - val_acc: 0.8810\n",
      "Epoch 8/10\n",
      "20000/20000 [==============================] - 251s 13ms/step - loss: 0.1521 - acc: 0.9487 - val_loss: 0.3611 - val_acc: 0.8730\n",
      "Epoch 9/10\n",
      "20000/20000 [==============================] - 181s 9ms/step - loss: 0.1441 - acc: 0.9511 - val_loss: 0.3577 - val_acc: 0.8526\n",
      "Epoch 10/10\n",
      "20000/20000 [==============================] - 178s 9ms/step - loss: 0.1312 - acc: 0.9565 - val_loss: 0.4310 - val_acc: 0.8660\n"
     ]
    }
   ],
   "source": [
    "from keras.layers import Bidirectional\n",
    "\n",
    "model = Sequential()\n",
    "model.add(Embedding(max_features, 32))\n",
    "model.add(Bidirectional(LSTM(32)))\n",
    "model.add(Dense(1, activation='sigmoid'))\n",
    "model.summary()\n",
    "\n",
    "model.compile(optimizer='rmsprop', loss='binary_crossentropy', metrics=['acc'])\n",
    "\n",
    "history = model.fit(x_train, y_train,\n",
    "                    epochs=10,\n",
    "                    batch_size=128,\n",
    "                    validation_split=0.2)"
   ]
  },
  {
   "cell_type": "code",
   "execution_count": 5,
   "metadata": {},
   "outputs": [
    {
     "data": {
      "image/png": "[encoded data removed]",
      "text/plain": [
       "<Figure size 432x288 with 1 Axes>"
      ]
     },
     "metadata": {
      "needs_background": "light"
     },
     "output_type": "display_data"
    }
   ],
   "source": [
    "loss = history.history['loss']\n",
    "val_loss = history.history['val_loss']\n",
    "\n",
    "epochs = range(len(loss))\n",
    "\n",
    "plt.figure()\n",
    "\n",
    "plt.plot(epochs, loss, 'bo', label='Training loss')\n",
    "plt.plot(epochs, val_loss, 'b', label='Validation loss')\n",
    "plt.title('Training and validation loss')\n",
    "plt.legend()\n",
    "\n",
    "plt.show()"
   ]
  },
  {
   "cell_type": "markdown",
   "metadata": {},
   "source": [
    "###### Pablo Minango\n",
    "* pablodavid218@gmail.com "
   ]
  }
 ],
 "metadata": {
  "kernelspec": {
   "display_name": "Python 3",
   "language": "python",
   "name": "python3"
  },
  "language_info": {
   "codemirror_mode": {
    "name": "ipython",
    "version": 3
   },
   "file_extension": ".py",
   "mimetype": "text/x-python",
   "name": "python",
   "nbconvert_exporter": "python",
   "pygments_lexer": "ipython3",
   "version": "3.6.8"
  }
 },
 "nbformat": 4,
 "nbformat_minor": 2
}
