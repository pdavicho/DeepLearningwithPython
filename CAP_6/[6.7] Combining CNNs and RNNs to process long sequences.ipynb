{
 "cells": [
  {
   "cell_type": "markdown",
   "metadata": {},
   "source": [
    "# <center> An Introduction to Deep Learning With Python <center/>"
   ]
  },
  {
   "cell_type": "markdown",
   "metadata": {},
   "source": [
    "### [6.7] Combining CNNs and RNNs to process long sequences\n",
    "Prof. Yuzo Iano\n",
    "\n",
    "pgs: 228 - 231"
   ]
  },
  {
   "cell_type": "markdown",
   "metadata": {},
   "source": [
    "#### Training and evaluating a simple 1D convnet on the Jena data"
   ]
  },
  {
   "cell_type": "code",
   "execution_count": 1,
   "metadata": {},
   "outputs": [],
   "source": [
    "import os\n",
    "import numpy as np"
   ]
  },
  {
   "cell_type": "code",
   "execution_count": 2,
   "metadata": {},
   "outputs": [],
   "source": [
    "data_dir = 'jena_climate'\n",
    "fname = os.path.join(data_dir, 'jena_climate_2009_2016.csv')\n",
    "f = open(fname)\n",
    "data = f.read()\n",
    "f.close()\n",
    "\n",
    "lines = data.split('\\n')\n",
    "header = lines[0].split(',')\n",
    "lines = lines[1:]\n",
    "\n",
    "float_data = np.zeros((len(lines), len(header) - 1))\n",
    "for i, line in enumerate(lines):\n",
    "    values = [float(x) for x in line.split(',')[1:]]\n",
    "    float_data[i, :] = values\n",
    "    \n",
    "mean = float_data[:200000].mean(axis=0)\n",
    "float_data -= mean\n",
    "std = float_data[:200000].std(axis=0)\n",
    "float_data /= std\n",
    "\n",
    "def generator(data, lookback, delay, min_index, max_index,\n",
    "              shuffle=False, batch_size=128, step=6):\n",
    "    if max_index is None:\n",
    "        max_index = len(data) - delay - 1\n",
    "    i = min_index + lookback\n",
    "    while 1:\n",
    "        if shuffle:\n",
    "            rows = np.random.randint(\n",
    "                min_index + lookback, max_index, size=batch_size)\n",
    "        else:\n",
    "            if i + batch_size >= max_index:\n",
    "                i = min_index + lookback\n",
    "            rows = np.arange(i, min(i + batch_size, max_index))\n",
    "            i += len(rows)\n",
    "\n",
    "        samples = np.zeros((len(rows),\n",
    "                           lookback // step,\n",
    "                           data.shape[-1]))\n",
    "        targets = np.zeros((len(rows),))\n",
    "        for j, row in enumerate(rows):\n",
    "            indices = range(rows[j] - lookback, rows[j], step)\n",
    "            samples[j] = data[indices]\n",
    "            targets[j] = data[rows[j] + delay][1]\n",
    "        yield samples, targets\n",
    "        \n",
    "lookback = 1440\n",
    "step = 6\n",
    "delay = 144\n",
    "batch_size = 128\n",
    "\n",
    "train_gen = generator(float_data,\n",
    "                      lookback=lookback,\n",
    "                      delay=delay,\n",
    "                      min_index=0,\n",
    "                      max_index=200000,\n",
    "                      shuffle=True,\n",
    "                      step=step, \n",
    "                      batch_size=batch_size)\n",
    "val_gen = generator(float_data,\n",
    "                    lookback=lookback,\n",
    "                    delay=delay,\n",
    "                    min_index=200001,\n",
    "                    max_index=300000,\n",
    "                    step=step,\n",
    "                    batch_size=batch_size)\n",
    "test_gen = generator(float_data,\n",
    "                     lookback=lookback,\n",
    "                     delay=delay,\n",
    "                     min_index=300001,\n",
    "                     max_index=None,\n",
    "                     step=step,\n",
    "                     batch_size=batch_size)\n",
    "\n",
    "# This is how many steps to draw from `val_gen`\n",
    "# in order to see the whole validation set:\n",
    "val_steps = (300000 - 200001 - lookback) // batch_size\n",
    "\n",
    "# This is how many steps to draw from `test_gen`\n",
    "# in order to see the whole test set:\n",
    "test_steps = (len(float_data) - 300001 - lookback) // batch_size"
   ]
  },
  {
   "cell_type": "code",
   "execution_count": 3,
   "metadata": {},
   "outputs": [
    {
     "name": "stderr",
     "output_type": "stream",
     "text": [
      "Using TensorFlow backend.\n"
     ]
    },
    {
     "name": "stdout",
     "output_type": "stream",
     "text": [
      "WARNING:tensorflow:From C:\\Users\\pablo\\AppData\\Roaming\\Python\\Python36\\site-packages\\tensorflow\\python\\framework\\op_def_library.py:263: colocate_with (from tensorflow.python.framework.ops) is deprecated and will be removed in a future version.\n",
      "Instructions for updating:\n",
      "Colocations handled automatically by placer.\n",
      "WARNING:tensorflow:From C:\\Users\\pablo\\AppData\\Roaming\\Python\\Python36\\site-packages\\tensorflow\\python\\ops\\math_ops.py:3066: to_int32 (from tensorflow.python.ops.math_ops) is deprecated and will be removed in a future version.\n",
      "Instructions for updating:\n",
      "Use tf.cast instead.\n",
      "WARNING:tensorflow:From C:\\Users\\pablo\\AppData\\Roaming\\Python\\Python36\\site-packages\\tensorflow\\python\\ops\\math_grad.py:102: div (from tensorflow.python.ops.math_ops) is deprecated and will be removed in a future version.\n",
      "Instructions for updating:\n",
      "Deprecated in favor of operator or tf.math.divide.\n",
      "Epoch 1/20\n",
      "500/500 [==============================] - 39s 77ms/step - loss: 0.4162 - val_loss: 0.4487\n",
      "Epoch 2/20\n",
      "500/500 [==============================] - 38s 77ms/step - loss: 0.3576 - val_loss: 0.4349\n",
      "Epoch 3/20\n",
      "500/500 [==============================] - 38s 75ms/step - loss: 0.3323 - val_loss: 0.4417\n",
      "Epoch 4/20\n",
      "500/500 [==============================] - 40s 80ms/step - loss: 0.3148 - val_loss: 0.4526\n",
      "Epoch 5/20\n",
      "500/500 [==============================] - 37s 73ms/step - loss: 0.3003 - val_loss: 0.4532\n",
      "Epoch 6/20\n",
      "500/500 [==============================] - 37s 73ms/step - loss: 0.2904 - val_loss: 0.4597\n",
      "Epoch 7/20\n",
      "500/500 [==============================] - 36s 72ms/step - loss: 0.2818 - val_loss: 0.4710\n",
      "Epoch 8/20\n",
      "500/500 [==============================] - 36s 71ms/step - loss: 0.2751 - val_loss: 0.4525\n",
      "Epoch 9/20\n",
      "500/500 [==============================] - 35s 71ms/step - loss: 0.2715 - val_loss: 0.4632\n",
      "Epoch 10/20\n",
      "500/500 [==============================] - 36s 72ms/step - loss: 0.2671 - val_loss: 0.4610\n",
      "Epoch 11/20\n",
      "500/500 [==============================] - 36s 72ms/step - loss: 0.2648 - val_loss: 0.4882\n",
      "Epoch 12/20\n",
      "500/500 [==============================] - 37s 73ms/step - loss: 0.2581 - val_loss: 0.4702\n",
      "Epoch 13/20\n",
      "500/500 [==============================] - 48s 96ms/step - loss: 0.2555 - val_loss: 0.4836\n",
      "Epoch 14/20\n",
      "500/500 [==============================] - 48s 97ms/step - loss: 0.2521 - val_loss: 0.4759\n",
      "Epoch 15/20\n",
      "500/500 [==============================] - 50s 100ms/step - loss: 0.2476 - val_loss: 0.4742\n",
      "Epoch 16/20\n",
      "500/500 [==============================] - 49s 99ms/step - loss: 0.2467 - val_loss: 0.5104\n",
      "Epoch 17/20\n",
      "500/500 [==============================] - 50s 100ms/step - loss: 0.2433 - val_loss: 0.4692\n",
      "Epoch 18/20\n",
      "500/500 [==============================] - 49s 97ms/step - loss: 0.2411 - val_loss: 0.4858\n",
      "Epoch 19/20\n",
      "500/500 [==============================] - 49s 98ms/step - loss: 0.2390 - val_loss: 0.4812\n",
      "Epoch 20/20\n",
      "500/500 [==============================] - 48s 96ms/step - loss: 0.2361 - val_loss: 0.5040\n"
     ]
    }
   ],
   "source": [
    "from keras.models import Sequential\n",
    "from keras.layers import Conv1D, MaxPooling1D, GlobalMaxPooling1D, Dense\n",
    "from keras.optimizers import RMSprop\n",
    "\n",
    "model = Sequential()\n",
    "model.add(Conv1D(32, 5, activation='relu', input_shape=(None, float_data.shape[-1])))\n",
    "model.add(MaxPooling1D(3))\n",
    "model.add(Conv1D(32, 5, activation='relu'))\n",
    "model.add(MaxPooling1D(3))\n",
    "model.add(Conv1D(32, 5, activation='relu'))\n",
    "model.add(GlobalMaxPooling1D())\n",
    "model.add(Dense(1))\n",
    "\n",
    "model.compile(optimizer=RMSprop(), loss='mae')\n",
    "\n",
    "history = model.fit_generator(train_gen,\n",
    "                              steps_per_epoch=500,\n",
    "                              epochs=20,\n",
    "                              validation_data=val_gen,\n",
    "                              validation_steps=val_steps)"
   ]
  },
  {
   "cell_type": "code",
   "execution_count": 8,
   "metadata": {},
   "outputs": [
    {
     "data": {
      "image/png": "[encoded data removed]",
      "text/plain": [
       "<Figure size 432x288 with 1 Axes>"
      ]
     },
     "metadata": {
      "needs_background": "light"
     },
     "output_type": "display_data"
    }
   ],
   "source": [
    "import matplotlib.pyplot as plt\n",
    "\n",
    "loss = history.history['loss']\n",
    "val_loss = history.history['val_loss']\n",
    "\n",
    "epochs = range(len(loss))\n",
    "\n",
    "plt.plot(epochs, loss, 'bo', label='Training Loss')\n",
    "plt.plot(epochs, val_loss, 'b', label='Validation Loss')\n",
    "plt.title('Training and Validation Loss')\n",
    "plt.legend()\n",
    "plt.grid()\n",
    "plt.show()"
   ]
  },
  {
   "cell_type": "markdown",
   "metadata": {},
   "source": [
    "#### Preparing higher-resolution data generators for the Jena dataset"
   ]
  },
  {
   "cell_type": "code",
   "execution_count": 5,
   "metadata": {},
   "outputs": [],
   "source": [
    "step = 3\n",
    "lookback = 720\n",
    "delay = 144\n",
    "\n",
    "train_gen = generator(float_data,\n",
    "                      lookback=lookback,\n",
    "                      delay=delay,\n",
    "                      min_index=0,\n",
    "                      max_index=200000,\n",
    "                      shuffle=True,\n",
    "                      step=step)\n",
    "\n",
    "val_gen = generator(float_data,\n",
    "                    lookback=lookback,\n",
    "                    delay=delay,\n",
    "                    min_index=200001,\n",
    "                    max_index=300000,\n",
    "                    step=step)\n",
    "\n",
    "test_gen = generator(float_data,\n",
    "                     lookback=lookback,\n",
    "                     delay=delay,\n",
    "                     min_index=300001,\n",
    "                     max_index=None,\n",
    "                     step=step)\n",
    "\n",
    "val_steps = (300000 - 200001 - lookback) // 128\n",
    "test_steps = (len(float_data) - 300001 - lookback) // 128"
   ]
  },
  {
   "cell_type": "markdown",
   "metadata": {},
   "source": [
    "#### Model combining a 1D convolutional base and GRU layer"
   ]
  },
  {
   "cell_type": "code",
   "execution_count": 6,
   "metadata": {},
   "outputs": [
    {
     "name": "stdout",
     "output_type": "stream",
     "text": [
      "WARNING:tensorflow:From C:\\Users\\pablo\\Python\\envs\\DAVID\\lib\\site-packages\\keras\\backend\\tensorflow_backend.py:3445: calling dropout (from tensorflow.python.ops.nn_ops) with keep_prob is deprecated and will be removed in a future version.\n",
      "Instructions for updating:\n",
      "Please use `rate` instead of `keep_prob`. Rate should be set to `rate = 1 - keep_prob`.\n",
      "_________________________________________________________________\n",
      "Layer (type)                 Output Shape              Param #   \n",
      "=================================================================\n",
      "conv1d_4 (Conv1D)            (None, None, 32)          2272      \n",
      "_________________________________________________________________\n",
      "max_pooling1d_3 (MaxPooling1 (None, None, 32)          0         \n",
      "_________________________________________________________________\n",
      "conv1d_5 (Conv1D)            (None, None, 32)          5152      \n",
      "_________________________________________________________________\n",
      "gru_1 (GRU)                  (None, 32)                6240      \n",
      "_________________________________________________________________\n",
      "dense_2 (Dense)              (None, 1)                 33        \n",
      "=================================================================\n",
      "Total params: 13,697\n",
      "Trainable params: 13,697\n",
      "Non-trainable params: 0\n",
      "_________________________________________________________________\n",
      "Epoch 1/20\n",
      "500/500 [==============================] - 72s 145ms/step - loss: 0.3395 - val_loss: 0.2861\n",
      "Epoch 2/20\n",
      "500/500 [==============================] - 70s 141ms/step - loss: 0.3053 - val_loss: 0.2812\n",
      "Epoch 3/20\n",
      "500/500 [==============================] - 70s 140ms/step - loss: 0.2946 - val_loss: 0.2733\n",
      "Epoch 4/20\n",
      "500/500 [==============================] - 70s 140ms/step - loss: 0.2866 - val_loss: 0.2941\n",
      "Epoch 5/20\n",
      "500/500 [==============================] - 71s 141ms/step - loss: 0.2810 - val_loss: 0.2755\n",
      "Epoch 6/20\n",
      "500/500 [==============================] - 70s 140ms/step - loss: 0.2749 - val_loss: 0.2830\n",
      "Epoch 7/20\n",
      "500/500 [==============================] - 70s 141ms/step - loss: 0.2712 - val_loss: 0.2764\n",
      "Epoch 8/20\n",
      "500/500 [==============================] - 69s 138ms/step - loss: 0.2634 - val_loss: 0.2799\n",
      "Epoch 9/20\n",
      "500/500 [==============================] - 71s 143ms/step - loss: 0.2590 - val_loss: 0.2740\n",
      "Epoch 10/20\n",
      "500/500 [==============================] - 71s 142ms/step - loss: 0.2582 - val_loss: 0.2827\n",
      "Epoch 11/20\n",
      "500/500 [==============================] - 71s 141ms/step - loss: 0.2508 - val_loss: 0.2828\n",
      "Epoch 12/20\n",
      "500/500 [==============================] - 70s 139ms/step - loss: 0.2478 - val_loss: 0.2931\n",
      "Epoch 13/20\n",
      "500/500 [==============================] - 71s 142ms/step - loss: 0.2433 - val_loss: 0.2897\n",
      "Epoch 14/20\n",
      "500/500 [==============================] - 71s 142ms/step - loss: 0.2410 - val_loss: 0.2878\n",
      "Epoch 15/20\n",
      "500/500 [==============================] - 71s 141ms/step - loss: 0.2378 - val_loss: 0.2920\n",
      "Epoch 16/20\n",
      "500/500 [==============================] - 71s 142ms/step - loss: 0.2331 - val_loss: 0.2939\n",
      "Epoch 17/20\n",
      "500/500 [==============================] - 71s 142ms/step - loss: 0.2313 - val_loss: 0.3037\n",
      "Epoch 18/20\n",
      "500/500 [==============================] - 70s 140ms/step - loss: 0.2290 - val_loss: 0.2973\n",
      "Epoch 19/20\n",
      "500/500 [==============================] - 71s 143ms/step - loss: 0.2264 - val_loss: 0.3012\n",
      "Epoch 20/20\n",
      "500/500 [==============================] - 72s 143ms/step - loss: 0.2250 - val_loss: 0.2935\n"
     ]
    }
   ],
   "source": [
    "from keras.layers import GRU\n",
    "\n",
    "model = Sequential()\n",
    "model.add(Conv1D(32, 5, activation='relu',input_shape=(None, float_data.shape[-1])))\n",
    "model.add(MaxPooling1D(3))\n",
    "model.add(Conv1D(32, 5, activation='relu'))\n",
    "model.add(GRU(32, dropout=0.1, recurrent_dropout=0.5))\n",
    "model.add(Dense(1))\n",
    "model.summary()\n",
    "\n",
    "model.compile(optimizer=RMSprop(), loss='mae')\n",
    "\n",
    "history = model.fit_generator(train_gen,\n",
    "                              steps_per_epoch=500,\n",
    "                              epochs=20,\n",
    "                              validation_data=val_gen,\n",
    "                              validation_steps=val_steps)"
   ]
  },
  {
   "cell_type": "code",
   "execution_count": 7,
   "metadata": {},
   "outputs": [
    {
     "data": {
      "image/png": "[encoded data removed]",
      "text/plain": [
       "<Figure size 432x288 with 1 Axes>"
      ]
     },
     "metadata": {
      "needs_background": "light"
     },
     "output_type": "display_data"
    }
   ],
   "source": [
    "loss = history.history['loss']\n",
    "val_loss = history.history['val_loss']\n",
    "\n",
    "epochs = range(len(loss))\n",
    "\n",
    "plt.plot(epochs, loss, 'bo', label='Training Loss')\n",
    "plt.plot(epochs, val_loss, 'b', label='Validation Loss')\n",
    "plt.title('Training and Validation Loss')\n",
    "plt.legend()\n",
    "plt.grid()\n",
    "plt.show()"
   ]
  },
  {
   "cell_type": "markdown",
   "metadata": {},
   "source": [
    "###### Pablo Minango\n",
    "* pablodavid218@gmail.com "
   ]
  }
 ],
 "metadata": {
  "kernelspec": {
   "display_name": "Python 3",
   "language": "python",
   "name": "python3"
  },
  "language_info": {
   "codemirror_mode": {
    "name": "ipython",
    "version": 3
   },
   "file_extension": ".py",
   "mimetype": "text/x-python",
   "name": "python",
   "nbconvert_exporter": "python",
   "pygments_lexer": "ipython3",
   "version": "3.6.8"
  }
 },
 "nbformat": 4,
 "nbformat_minor": 2
}
